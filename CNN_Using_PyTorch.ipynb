{
  "nbformat": 4,
  "nbformat_minor": 0,
  "metadata": {
    "colab": {
      "provenance": [],
      "gpuType": "T4",
      "authorship_tag": "ABX9TyODyu/cq9DCahQwf848+7mH",
      "include_colab_link": true
    },
    "kernelspec": {
      "name": "python3",
      "display_name": "Python 3"
    },
    "language_info": {
      "name": "python"
    },
    "accelerator": "GPU"
  },
  "cells": [
    {
      "cell_type": "markdown",
      "metadata": {
        "id": "view-in-github",
        "colab_type": "text"
      },
      "source": [
        "<a href=\"https://colab.research.google.com/github/giriharan007/CNN-using-pytorch/blob/main/CNN_Using_PyTorch.ipynb\" target=\"_parent\"><img src=\"https://colab.research.google.com/assets/colab-badge.svg\" alt=\"Open In Colab\"/></a>"
      ]
    },
    {
      "cell_type": "code",
      "execution_count": 1,
      "metadata": {
        "id": "m0fVMTG82Z2I"
      },
      "outputs": [],
      "source": [
        "import torch\n",
        "import torch.nn as nn\n",
        "import torch.nn.functional as F\n",
        "from torchvision import datasets, transforms\n",
        "from torch.utils.data import DataLoader\n",
        "from torchvision.utils import make_grid\n",
        "\n",
        "import matplotlib.pyplot as plt\n",
        "%matplotlib inline\n",
        "import numpy as np\n",
        "import pandas as pd\n",
        "from sklearn.metrics import confusion_matrix\n"
      ]
    },
    {
      "cell_type": "code",
      "source": [
        "#convert MNIST images(2D) into a tensors of 4D(no.of images,height,width,colour channel)\n",
        "tansform = transforms.ToTensor()"
      ],
      "metadata": {
        "id": "GnCGuW-K15h3"
      },
      "execution_count": 2,
      "outputs": []
    },
    {
      "cell_type": "code",
      "source": [
        "#train data (root='/cnn_data' is the url where dataset have been download and save)\n",
        "train_data = datasets.MNIST(root='/cnn_data',train=True,download=True,transform=tansform)"
      ],
      "metadata": {
        "colab": {
          "base_uri": "https://localhost:8080/"
        },
        "id": "cM5KwKGo2hd2",
        "outputId": "3dc61072-424f-44a3-d2ed-59b48b7689b9"
      },
      "execution_count": 3,
      "outputs": [
        {
          "output_type": "stream",
          "name": "stdout",
          "text": [
            "Downloading http://yann.lecun.com/exdb/mnist/train-images-idx3-ubyte.gz\n",
            "Failed to download (trying next):\n",
            "HTTP Error 403: Forbidden\n",
            "\n",
            "Downloading https://ossci-datasets.s3.amazonaws.com/mnist/train-images-idx3-ubyte.gz\n",
            "Downloading https://ossci-datasets.s3.amazonaws.com/mnist/train-images-idx3-ubyte.gz to /cnn_data/MNIST/raw/train-images-idx3-ubyte.gz\n"
          ]
        },
        {
          "output_type": "stream",
          "name": "stderr",
          "text": [
            "100%|██████████| 9912422/9912422 [00:00<00:00, 17654994.50it/s]\n"
          ]
        },
        {
          "output_type": "stream",
          "name": "stdout",
          "text": [
            "Extracting /cnn_data/MNIST/raw/train-images-idx3-ubyte.gz to /cnn_data/MNIST/raw\n",
            "\n",
            "Downloading http://yann.lecun.com/exdb/mnist/train-labels-idx1-ubyte.gz\n",
            "Failed to download (trying next):\n",
            "HTTP Error 403: Forbidden\n",
            "\n",
            "Downloading https://ossci-datasets.s3.amazonaws.com/mnist/train-labels-idx1-ubyte.gz\n",
            "Downloading https://ossci-datasets.s3.amazonaws.com/mnist/train-labels-idx1-ubyte.gz to /cnn_data/MNIST/raw/train-labels-idx1-ubyte.gz\n"
          ]
        },
        {
          "output_type": "stream",
          "name": "stderr",
          "text": [
            "100%|██████████| 28881/28881 [00:00<00:00, 494930.37it/s]\n"
          ]
        },
        {
          "output_type": "stream",
          "name": "stdout",
          "text": [
            "Extracting /cnn_data/MNIST/raw/train-labels-idx1-ubyte.gz to /cnn_data/MNIST/raw\n",
            "\n",
            "Downloading http://yann.lecun.com/exdb/mnist/t10k-images-idx3-ubyte.gz\n",
            "Failed to download (trying next):\n",
            "HTTP Error 403: Forbidden\n",
            "\n",
            "Downloading https://ossci-datasets.s3.amazonaws.com/mnist/t10k-images-idx3-ubyte.gz\n",
            "Downloading https://ossci-datasets.s3.amazonaws.com/mnist/t10k-images-idx3-ubyte.gz to /cnn_data/MNIST/raw/t10k-images-idx3-ubyte.gz\n"
          ]
        },
        {
          "output_type": "stream",
          "name": "stderr",
          "text": [
            "100%|██████████| 1648877/1648877 [00:00<00:00, 4465331.09it/s]\n"
          ]
        },
        {
          "output_type": "stream",
          "name": "stdout",
          "text": [
            "Extracting /cnn_data/MNIST/raw/t10k-images-idx3-ubyte.gz to /cnn_data/MNIST/raw\n",
            "\n",
            "Downloading http://yann.lecun.com/exdb/mnist/t10k-labels-idx1-ubyte.gz\n",
            "Failed to download (trying next):\n",
            "HTTP Error 403: Forbidden\n",
            "\n",
            "Downloading https://ossci-datasets.s3.amazonaws.com/mnist/t10k-labels-idx1-ubyte.gz\n",
            "Downloading https://ossci-datasets.s3.amazonaws.com/mnist/t10k-labels-idx1-ubyte.gz to /cnn_data/MNIST/raw/t10k-labels-idx1-ubyte.gz\n"
          ]
        },
        {
          "output_type": "stream",
          "name": "stderr",
          "text": [
            "100%|██████████| 4542/4542 [00:00<00:00, 4861068.84it/s]"
          ]
        },
        {
          "output_type": "stream",
          "name": "stdout",
          "text": [
            "Extracting /cnn_data/MNIST/raw/t10k-labels-idx1-ubyte.gz to /cnn_data/MNIST/raw\n",
            "\n"
          ]
        },
        {
          "output_type": "stream",
          "name": "stderr",
          "text": [
            "\n"
          ]
        }
      ]
    },
    {
      "cell_type": "code",
      "source": [
        "#test data\n",
        "test_data = datasets.MNIST(root='/cnn_data',train=False,download=True,transform=tansform)"
      ],
      "metadata": {
        "id": "H0j9hiiR3nDT"
      },
      "execution_count": 4,
      "outputs": []
    },
    {
      "cell_type": "code",
      "source": [
        "train_data"
      ],
      "metadata": {
        "colab": {
          "base_uri": "https://localhost:8080/"
        },
        "id": "LjNTduPj4eoh",
        "outputId": "95225b50-db87-4788-9a77-502dd5114395"
      },
      "execution_count": 5,
      "outputs": [
        {
          "output_type": "execute_result",
          "data": {
            "text/plain": [
              "Dataset MNIST\n",
              "    Number of datapoints: 60000\n",
              "    Root location: /cnn_data\n",
              "    Split: Train\n",
              "    StandardTransform\n",
              "Transform: ToTensor()"
            ]
          },
          "metadata": {},
          "execution_count": 5
        }
      ]
    },
    {
      "cell_type": "code",
      "source": [
        "test_data"
      ],
      "metadata": {
        "colab": {
          "base_uri": "https://localhost:8080/"
        },
        "id": "UVnZIr0W4hKk",
        "outputId": "53201a0d-c56b-41b0-b3df-25b123e8010a"
      },
      "execution_count": 6,
      "outputs": [
        {
          "output_type": "execute_result",
          "data": {
            "text/plain": [
              "Dataset MNIST\n",
              "    Number of datapoints: 10000\n",
              "    Root location: /cnn_data\n",
              "    Split: Test\n",
              "    StandardTransform\n",
              "Transform: ToTensor()"
            ]
          },
          "metadata": {},
          "execution_count": 6
        }
      ]
    },
    {
      "cell_type": "code",
      "source": [
        "\n",
        "#create an batch size\n",
        "train_loader = DataLoader(train_data,batch_size=15,shuffle=True)\n",
        "test_loader = DataLoader(test_data,batch_size=15,shuffle=False)"
      ],
      "metadata": {
        "id": "Ir_TXm2N4n34"
      },
      "execution_count": 7,
      "outputs": []
    },
    {
      "cell_type": "code",
      "source": [
        "#define CNN Model\n",
        "#describe convolutional layer we initialize 2 convolutional layer\n",
        "conv1 = nn.Conv2d(in_channels=1,out_channels=6,kernel_size=3,stride=1)\n",
        "conv2 = nn.Conv2d(in_channels=6,out_channels=16,kernel_size=3,stride=1)"
      ],
      "metadata": {
        "id": "mj-8Q6IfA_WN"
      },
      "execution_count": 8,
      "outputs": []
    },
    {
      "cell_type": "code",
      "source": [
        "#grab 1 MNIST IMAGE\n",
        "for i,(X_Train,y_train) in enumerate(train_data):\n",
        "    break"
      ],
      "metadata": {
        "id": "q3U_26m3BrvN"
      },
      "execution_count": 9,
      "outputs": []
    },
    {
      "cell_type": "code",
      "source": [
        "X_Train.shape"
      ],
      "metadata": {
        "colab": {
          "base_uri": "https://localhost:8080/"
        },
        "id": "oadWwUBJCH0b",
        "outputId": "cd442294-db0b-43be-8a5b-ec0beb8a64e9"
      },
      "execution_count": 10,
      "outputs": [
        {
          "output_type": "execute_result",
          "data": {
            "text/plain": [
              "torch.Size([1, 28, 28])"
            ]
          },
          "metadata": {},
          "execution_count": 10
        }
      ]
    },
    {
      "cell_type": "code",
      "source": [
        "#change 4D Image\n",
        "x = X_Train.reshape(1,1,28,28)"
      ],
      "metadata": {
        "id": "HWFZTStRCMlw"
      },
      "execution_count": 11,
      "outputs": []
    },
    {
      "cell_type": "code",
      "source": [
        "x.shape"
      ],
      "metadata": {
        "colab": {
          "base_uri": "https://localhost:8080/"
        },
        "id": "twC8ntmLCbD9",
        "outputId": "206b282f-5b59-4ecc-92b3-46ca8e4ac291"
      },
      "execution_count": 12,
      "outputs": [
        {
          "output_type": "execute_result",
          "data": {
            "text/plain": [
              "torch.Size([1, 1, 28, 28])"
            ]
          },
          "metadata": {},
          "execution_count": 12
        }
      ]
    },
    {
      "cell_type": "code",
      "source": [
        "#perform our first convolution\n",
        "x = F.relu(conv1(x))"
      ],
      "metadata": {
        "id": "1DduPIsKCdd2"
      },
      "execution_count": 13,
      "outputs": []
    },
    {
      "cell_type": "code",
      "source": [
        "#1=single image,6=kernal or filters,26x26=size of img(note:the upside img size is 28x28 now is 26x26 bcoz it take padding default)\n",
        "x.shape"
      ],
      "metadata": {
        "colab": {
          "base_uri": "https://localhost:8080/"
        },
        "id": "o7j6ye5ZC9wQ",
        "outputId": "2d543785-a2dd-49fd-ab1c-e856787dd863"
      },
      "execution_count": 14,
      "outputs": [
        {
          "output_type": "execute_result",
          "data": {
            "text/plain": [
              "torch.Size([1, 6, 26, 26])"
            ]
          },
          "metadata": {},
          "execution_count": 14
        }
      ]
    },
    {
      "cell_type": "code",
      "source": [
        "#pass through pooling layer\n",
        "x=F.max_pool2d(x,2,2) #x=img,2x2=is kernal size of 2"
      ],
      "metadata": {
        "id": "SIIihczVC_TG"
      },
      "execution_count": 15,
      "outputs": []
    },
    {
      "cell_type": "code",
      "source": [
        "\n",
        "#26x26/2=13x13 due to pooling\n",
        "x.shape"
      ],
      "metadata": {
        "colab": {
          "base_uri": "https://localhost:8080/"
        },
        "id": "dgtxIhyGEIeL",
        "outputId": "d1657e4c-932f-4d37-d03f-19f6aa78361c"
      },
      "execution_count": 16,
      "outputs": [
        {
          "output_type": "execute_result",
          "data": {
            "text/plain": [
              "torch.Size([1, 6, 13, 13])"
            ]
          },
          "metadata": {},
          "execution_count": 16
        }
      ]
    },
    {
      "cell_type": "code",
      "source": [
        "#do 2nd convolutional layer\n",
        "x=F.relu(conv2(x))"
      ],
      "metadata": {
        "id": "QIxLiK8XEKLl"
      },
      "execution_count": 17,
      "outputs": []
    },
    {
      "cell_type": "code",
      "source": [
        "x.shape"
      ],
      "metadata": {
        "colab": {
          "base_uri": "https://localhost:8080/"
        },
        "id": "7WTiP7xFEhn4",
        "outputId": "d07feaac-9828-4d37-f617-993f215e2e6a"
      },
      "execution_count": 18,
      "outputs": [
        {
          "output_type": "execute_result",
          "data": {
            "text/plain": [
              "torch.Size([1, 16, 11, 11])"
            ]
          },
          "metadata": {},
          "execution_count": 18
        }
      ]
    },
    {
      "cell_type": "code",
      "source": [
        "x=F.max_pool2d(x,2,2)"
      ],
      "metadata": {
        "id": "jN2TEEVkEqwL"
      },
      "execution_count": 19,
      "outputs": []
    },
    {
      "cell_type": "code",
      "source": [
        "x.shape"
      ],
      "metadata": {
        "colab": {
          "base_uri": "https://localhost:8080/"
        },
        "id": "Y5UCHHtmEsiN",
        "outputId": "d56c4d29-3e24-47a5-a81d-d9d46155fc76"
      },
      "execution_count": 20,
      "outputs": [
        {
          "output_type": "execute_result",
          "data": {
            "text/plain": [
              "torch.Size([1, 16, 5, 5])"
            ]
          },
          "metadata": {},
          "execution_count": 20
        }
      ]
    },
    {
      "cell_type": "code",
      "source": [
        "#model class\n",
        "class convolutionalNetwork(nn.Module):\n",
        "   def __init__(self):\n",
        "       super().__init__()\n",
        "       self.conv1 = nn.Conv2d(in_channels=1,out_channels=6,kernel_size=3,stride=1)\n",
        "       self.conv2 = nn.Conv2d(in_channels=6,out_channels=16,kernel_size=3,stride=1)\n",
        "#fully connected layer\n",
        "       self.fc1 = nn.Linear(5*5*16,120) #it above x.shape and 120=output\n",
        "       self.fc2 = nn.Linear(120,84) #120=is the output of above fc1\n",
        "       self.fc3 = nn.Linear(84,10)\n",
        "\n",
        "   def forward(self,X):\n",
        "    X=F.relu(self.conv1(X))\n",
        "    X=F.max_pool2d(X,2,2)\n",
        "    X=F.relu(self.conv2(X))\n",
        "    X=F.max_pool2d(X,2,2)\n",
        "\n",
        "    #review to flattern in out\n",
        "    X=X.view(-1,5*5*16) #-1 that we can vary the batch size\n",
        "\n",
        "    #fully connected layers\n",
        "    X=F.relu(self.fc1(X))\n",
        "    X=F.relu(self.fc2(X))\n",
        "    X=self.fc3(X)\n",
        "    return F.log_softmax(X,dim=1)\n"
      ],
      "metadata": {
        "id": "GU58m7eeEvnt"
      },
      "execution_count": 21,
      "outputs": []
    },
    {
      "cell_type": "code",
      "source": [
        "#create an instance of our model\n",
        "torch.manual_seed(42)\n",
        "model = convolutionalNetwork()\n",
        "model"
      ],
      "metadata": {
        "colab": {
          "base_uri": "https://localhost:8080/"
        },
        "id": "bBX1QD8tK5pq",
        "outputId": "86f89815-9bf2-4858-e8a0-2ad220198c14"
      },
      "execution_count": 22,
      "outputs": [
        {
          "output_type": "execute_result",
          "data": {
            "text/plain": [
              "convolutionalNetwork(\n",
              "  (conv1): Conv2d(1, 6, kernel_size=(3, 3), stride=(1, 1))\n",
              "  (conv2): Conv2d(6, 16, kernel_size=(3, 3), stride=(1, 1))\n",
              "  (fc1): Linear(in_features=400, out_features=120, bias=True)\n",
              "  (fc2): Linear(in_features=120, out_features=84, bias=True)\n",
              "  (fc3): Linear(in_features=84, out_features=10, bias=True)\n",
              ")"
            ]
          },
          "metadata": {},
          "execution_count": 22
        }
      ]
    },
    {
      "cell_type": "code",
      "source": [
        "#loss fun\n",
        "criterion = nn.CrossEntropyLoss()\n",
        "optimizer = torch.optim.Adam(model.parameters(),lr=0.001)#smaller learing rate ,it take longer training"
      ],
      "metadata": {
        "id": "FeGFdoHCLuIM"
      },
      "execution_count": 23,
      "outputs": []
    },
    {
      "cell_type": "code",
      "source": [
        "#we cheack how long it takes\n",
        "import time\n",
        "start_time = time.time() #start time\n",
        "\n",
        "#declare some variables\n",
        "epochs=5\n",
        "train_losses=[]\n",
        "test_losses=[]\n",
        "train_correct=[]\n",
        "test_correct=[]\n",
        "\n",
        "#for loop for epochs\n",
        "for i in range(epochs):\n",
        "  trn_corr=0\n",
        "  tst_corr=0\n",
        "\n",
        "  #training\n",
        "  for b,(X_train,y_train) in enumerate(train_loader):\n",
        "    b+=1\n",
        "    y_pred = model(X_train)\n",
        "    loss = criterion(y_pred,y_train)\n",
        "    prediction = torch.max(y_pred.data,1)[1]#add up the no.of correct prediction.[1]= indexed in first point\n",
        "    batch_corr= (prediction==y_train).sum() #how many we got crt from this batch,True=1,False=0 and sum those\n",
        "    trn_corr += batch_corr #keep track as we go along training\n",
        "\n",
        "    #backprop\n",
        "    optimizer.zero_grad()\n",
        "    loss.backward()\n",
        "    optimizer.step()\n",
        "\n",
        "   #print result\n",
        "    if b%600==0:\n",
        "      print(f\"epoch:{i},batch: {b} loss: {loss.item()}\")\n",
        "\n",
        "  train_losses.append(loss)\n",
        "  train_correct.append(trn_corr)\n",
        "\n",
        "  #test\n",
        "  with torch.no_grad():#no gradient so we don't update weight and biases with test\n",
        "    for b,(X_test,y_test) in enumerate(test_loader):\n",
        "      y_val = model(X_test)\n",
        "      loss = criterion(y_val,y_test)\n",
        "      prediction = torch.max(y_val.data,1)[1]#add up crt prediction\n",
        "      tst_corr += (prediction==y_test).sum()\n",
        "\n",
        "  test_losses.append(loss)\n",
        "  test_correct.append(tst_corr)\n",
        "\n",
        "currrent_time=time.time()\n",
        "total_time=currrent_time-start_time\n",
        "print(f\"training time took:{total_time/60} minutes\")\n"
      ],
      "metadata": {
        "id": "7XNerMz8MxV3",
        "colab": {
          "base_uri": "https://localhost:8080/"
        },
        "outputId": "c6a7cfbd-ea1d-4734-908d-753469bc0a06"
      },
      "execution_count": 24,
      "outputs": [
        {
          "output_type": "stream",
          "name": "stdout",
          "text": [
            "epoch:0,batch: 600 loss: 0.27575549483299255\n",
            "epoch:0,batch: 1200 loss: 0.8045499920845032\n",
            "epoch:0,batch: 1800 loss: 0.07173299044370651\n",
            "epoch:0,batch: 2400 loss: 0.07981591671705246\n",
            "epoch:0,batch: 3000 loss: 0.08505412191152573\n",
            "epoch:0,batch: 3600 loss: 0.010764223523437977\n",
            "epoch:1,batch: 600 loss: 0.017870334908366203\n",
            "epoch:1,batch: 1200 loss: 0.0009766991715878248\n",
            "epoch:1,batch: 1800 loss: 0.32685592770576477\n",
            "epoch:1,batch: 2400 loss: 0.0005851874011568725\n",
            "epoch:1,batch: 3000 loss: 0.004059133119881153\n",
            "epoch:1,batch: 3600 loss: 0.0024177744053304195\n",
            "epoch:2,batch: 600 loss: 7.858804747229442e-05\n",
            "epoch:2,batch: 1200 loss: 0.015890827402472496\n",
            "epoch:2,batch: 1800 loss: 0.0102665601298213\n",
            "epoch:2,batch: 2400 loss: 0.011516104452311993\n",
            "epoch:2,batch: 3000 loss: 0.06937242299318314\n",
            "epoch:2,batch: 3600 loss: 0.0008150379871949553\n",
            "epoch:3,batch: 600 loss: 0.016574857756495476\n",
            "epoch:3,batch: 1200 loss: 0.0018926981138065457\n",
            "epoch:3,batch: 1800 loss: 0.0011580873979255557\n",
            "epoch:3,batch: 2400 loss: 0.0007592194015160203\n",
            "epoch:3,batch: 3000 loss: 0.00022453580459114164\n",
            "epoch:3,batch: 3600 loss: 0.002918940270319581\n",
            "epoch:4,batch: 600 loss: 0.1460348516702652\n",
            "epoch:4,batch: 1200 loss: 0.0003194819437339902\n",
            "epoch:4,batch: 1800 loss: 0.0010820160387083888\n",
            "epoch:4,batch: 2400 loss: 0.0006936945137567818\n",
            "epoch:4,batch: 3000 loss: 0.00015562916814815253\n",
            "epoch:4,batch: 3600 loss: 0.0007248108740895987\n",
            "training time took:2.7483644008636476 minutes\n"
          ]
        }
      ]
    },
    {
      "cell_type": "code",
      "source": [
        "#graph the loss epochs\n",
        "#train_losses = [t.item() for t in train_losses]\n",
        "#test_losses = [t.item() for t in test_losses]\n",
        "plt.plot(train_losses,label='training loss')\n",
        "plt.plot(test_losses,label='test loss')\n",
        "plt.title('Loss at Epochs')\n",
        "plt.legend()"
      ],
      "metadata": {
        "colab": {
          "base_uri": "https://localhost:8080/",
          "height": 470
        },
        "id": "RM8CwqvBERkp",
        "outputId": "fdd63f43-19bb-4f0a-9d95-5675e6461d5b"
      },
      "execution_count": 29,
      "outputs": [
        {
          "output_type": "execute_result",
          "data": {
            "text/plain": [
              "<matplotlib.legend.Legend at 0x7c13730320b0>"
            ]
          },
          "metadata": {},
          "execution_count": 29
        },
        {
          "output_type": "display_data",
          "data": {
            "text/plain": [
              "<Figure size 640x480 with 1 Axes>"
            ],
            "image/png": "[encoded data removed]"
          },
          "metadata": {}
        }
      ]
    },
    {
      "cell_type": "code",
      "source": [
        "#graph for acc\n",
        "#train_correct = [tc.item() for tc in train_correct]\n",
        "#test_correct = [tc.item() for tc in test_correct]\n",
        "plt.plot(train_correct,label='training correct')\n",
        "plt.plot(test_correct,label='test correct')\n",
        "plt.title('Correct at Epochs')\n",
        "plt.legend"
      ],
      "metadata": {
        "colab": {
          "base_uri": "https://localhost:8080/",
          "height": 621
        },
        "id": "MgZaPYYiRJC-",
        "outputId": "43eb8f32-bbf1-479a-eb07-ecbac0ef583a"
      },
      "execution_count": 30,
      "outputs": [
        {
          "output_type": "execute_result",
          "data": {
            "text/plain": [
              "<function matplotlib.pyplot.legend(*args, **kwargs)>"
            ],
            "text/html": [
              "<div style=\"max-width:800px; border: 1px solid var(--colab-border-color);\"><style>\n",
              "      pre.function-repr-contents {\n",
              "        overflow-x: auto;\n",
              "        padding: 8px 12px;\n",
              "        max-height: 500px;\n",
              "      }\n",
              "\n",
              "      pre.function-repr-contents.function-repr-contents-collapsed {\n",
              "        cursor: pointer;\n",
              "        max-height: 100px;\n",
              "      }\n",
              "    </style>\n",
              "    <pre style=\"white-space: initial; background:\n",
              "         var(--colab-secondary-surface-color); padding: 8px 12px;\n",
              "         border-bottom: 1px solid var(--colab-border-color);\"><b>matplotlib.pyplot.legend</b><br/>def legend(*args, **kwargs)</pre><pre class=\"function-repr-contents function-repr-contents-collapsed\" style=\"\"><a class=\"filepath\" style=\"display:none\" href=\"#\">/usr/local/lib/python3.10/dist-packages/matplotlib/pyplot.py</a>Place a legend on the Axes.\n",
              "\n",
              "Call signatures::\n",
              "\n",
              "    legend()\n",
              "    legend(handles, labels)\n",
              "    legend(handles=handles)\n",
              "    legend(labels)\n",
              "\n",
              "The call signatures correspond to the following different ways to use\n",
              "this method:\n",
              "\n",
              "**1. Automatic detection of elements to be shown in the legend**\n",
              "\n",
              "The elements to be added to the legend are automatically determined,\n",
              "when you do not pass in any extra arguments.\n",
              "\n",
              "In this case, the labels are taken from the artist. You can specify\n",
              "them either at artist creation or by calling the\n",
              ":meth:`~.Artist.set_label` method on the artist::\n",
              "\n",
              "    ax.plot([1, 2, 3], label=&#x27;Inline label&#x27;)\n",
              "    ax.legend()\n",
              "\n",
              "or::\n",
              "\n",
              "    line, = ax.plot([1, 2, 3])\n",
              "    line.set_label(&#x27;Label via method&#x27;)\n",
              "    ax.legend()\n",
              "\n",
              ".. note::\n",
              "    Specific artists can be excluded from the automatic legend element\n",
              "    selection by using a label starting with an underscore, &quot;_&quot;.\n",
              "    A string starting with an underscore is the default label for all\n",
              "    artists, so calling `.Axes.legend` without any arguments and\n",
              "    without setting the labels manually will result in no legend being\n",
              "    drawn.\n",
              "\n",
              "\n",
              "**2. Explicitly listing the artists and labels in the legend**\n",
              "\n",
              "For full control of which artists have a legend entry, it is possible\n",
              "to pass an iterable of legend artists followed by an iterable of\n",
              "legend labels respectively::\n",
              "\n",
              "    ax.legend([line1, line2, line3], [&#x27;label1&#x27;, &#x27;label2&#x27;, &#x27;label3&#x27;])\n",
              "\n",
              "\n",
              "**3. Explicitly listing the artists in the legend**\n",
              "\n",
              "This is similar to 2, but the labels are taken from the artists&#x27;\n",
              "label properties. Example::\n",
              "\n",
              "    line1, = ax.plot([1, 2, 3], label=&#x27;label1&#x27;)\n",
              "    line2, = ax.plot([1, 2, 3], label=&#x27;label2&#x27;)\n",
              "    ax.legend(handles=[line1, line2])\n",
              "\n",
              "\n",
              "**4. Labeling existing plot elements**\n",
              "\n",
              ".. admonition:: Discouraged\n",
              "\n",
              "    This call signature is discouraged, because the relation between\n",
              "    plot elements and labels is only implicit by their order and can\n",
              "    easily be mixed up.\n",
              "\n",
              "To make a legend for all artists on an Axes, call this function with\n",
              "an iterable of strings, one for each legend item. For example::\n",
              "\n",
              "    ax.plot([1, 2, 3])\n",
              "    ax.plot([5, 6, 7])\n",
              "    ax.legend([&#x27;First line&#x27;, &#x27;Second line&#x27;])\n",
              "\n",
              "\n",
              "Parameters\n",
              "----------\n",
              "handles : sequence of `.Artist`, optional\n",
              "    A list of Artists (lines, patches) to be added to the legend.\n",
              "    Use this together with *labels*, if you need full control on what\n",
              "    is shown in the legend and the automatic mechanism described above\n",
              "    is not sufficient.\n",
              "\n",
              "    The length of handles and labels should be the same in this\n",
              "    case. If they are not, they are truncated to the smaller length.\n",
              "\n",
              "labels : list of str, optional\n",
              "    A list of labels to show next to the artists.\n",
              "    Use this together with *handles*, if you need full control on what\n",
              "    is shown in the legend and the automatic mechanism described above\n",
              "    is not sufficient.\n",
              "\n",
              "Returns\n",
              "-------\n",
              "`~matplotlib.legend.Legend`\n",
              "\n",
              "Other Parameters\n",
              "----------------\n",
              "\n",
              "loc : str or pair of floats, default: :rc:`legend.loc`\n",
              "    The location of the legend.\n",
              "\n",
              "    The strings ``&#x27;upper left&#x27;``, ``&#x27;upper right&#x27;``, ``&#x27;lower left&#x27;``,\n",
              "    ``&#x27;lower right&#x27;`` place the legend at the corresponding corner of the\n",
              "    axes.\n",
              "\n",
              "    The strings ``&#x27;upper center&#x27;``, ``&#x27;lower center&#x27;``, ``&#x27;center left&#x27;``,\n",
              "    ``&#x27;center right&#x27;`` place the legend at the center of the corresponding edge\n",
              "    of the axes.\n",
              "\n",
              "    The string ``&#x27;center&#x27;`` places the legend at the center of the axes.\n",
              "\n",
              "    The string ``&#x27;best&#x27;`` places the legend at the location, among the nine\n",
              "    locations defined so far, with the minimum overlap with other drawn\n",
              "    artists.  This option can be quite slow for plots with large amounts of\n",
              "    data; your plotting speed may benefit from providing a specific location.\n",
              "\n",
              "    The location can also be a 2-tuple giving the coordinates of the lower-left\n",
              "    corner of the legend in axes coordinates (in which case *bbox_to_anchor*\n",
              "    will be ignored).\n",
              "\n",
              "    For back-compatibility, ``&#x27;center right&#x27;`` (but no other location) can also\n",
              "    be spelled ``&#x27;right&#x27;``, and each &quot;string&quot; location can also be given as a\n",
              "    numeric value:\n",
              "\n",
              "        ==================   =============\n",
              "        Location String      Location Code\n",
              "        ==================   =============\n",
              "        &#x27;best&#x27; (Axes only)   0\n",
              "        &#x27;upper right&#x27;        1\n",
              "        &#x27;upper left&#x27;         2\n",
              "        &#x27;lower left&#x27;         3\n",
              "        &#x27;lower right&#x27;        4\n",
              "        &#x27;right&#x27;              5\n",
              "        &#x27;center left&#x27;        6\n",
              "        &#x27;center right&#x27;       7\n",
              "        &#x27;lower center&#x27;       8\n",
              "        &#x27;upper center&#x27;       9\n",
              "        &#x27;center&#x27;             10\n",
              "        ==================   =============\n",
              "    \n",
              "bbox_to_anchor : `.BboxBase`, 2-tuple, or 4-tuple of floats\n",
              "    Box that is used to position the legend in conjunction with *loc*.\n",
              "    Defaults to `axes.bbox` (if called as a method to `.Axes.legend`) or\n",
              "    `figure.bbox` (if `.Figure.legend`).  This argument allows arbitrary\n",
              "    placement of the legend.\n",
              "\n",
              "    Bbox coordinates are interpreted in the coordinate system given by\n",
              "    *bbox_transform*, with the default transform\n",
              "    Axes or Figure coordinates, depending on which ``legend`` is called.\n",
              "\n",
              "    If a 4-tuple or `.BboxBase` is given, then it specifies the bbox\n",
              "    ``(x, y, width, height)`` that the legend is placed in.\n",
              "    To put the legend in the best location in the bottom right\n",
              "    quadrant of the axes (or figure)::\n",
              "\n",
              "        loc=&#x27;best&#x27;, bbox_to_anchor=(0.5, 0., 0.5, 0.5)\n",
              "\n",
              "    A 2-tuple ``(x, y)`` places the corner of the legend specified by *loc* at\n",
              "    x, y.  For example, to put the legend&#x27;s upper right-hand corner in the\n",
              "    center of the axes (or figure) the following keywords can be used::\n",
              "\n",
              "        loc=&#x27;upper right&#x27;, bbox_to_anchor=(0.5, 0.5)\n",
              "\n",
              "ncols : int, default: 1\n",
              "    The number of columns that the legend has.\n",
              "\n",
              "    For backward compatibility, the spelling *ncol* is also supported\n",
              "    but it is discouraged. If both are given, *ncols* takes precedence.\n",
              "\n",
              "prop : None or `matplotlib.font_manager.FontProperties` or dict\n",
              "    The font properties of the legend. If None (default), the current\n",
              "    :data:`matplotlib.rcParams` will be used.\n",
              "\n",
              "fontsize : int or {&#x27;xx-small&#x27;, &#x27;x-small&#x27;, &#x27;small&#x27;, &#x27;medium&#x27;, &#x27;large&#x27;, &#x27;x-large&#x27;, &#x27;xx-large&#x27;}\n",
              "    The font size of the legend. If the value is numeric the size will be the\n",
              "    absolute font size in points. String values are relative to the current\n",
              "    default font size. This argument is only used if *prop* is not specified.\n",
              "\n",
              "labelcolor : str or list, default: :rc:`legend.labelcolor`\n",
              "    The color of the text in the legend. Either a valid color string\n",
              "    (for example, &#x27;red&#x27;), or a list of color strings. The labelcolor can\n",
              "    also be made to match the color of the line or marker using &#x27;linecolor&#x27;,\n",
              "    &#x27;markerfacecolor&#x27; (or &#x27;mfc&#x27;), or &#x27;markeredgecolor&#x27; (or &#x27;mec&#x27;).\n",
              "\n",
              "    Labelcolor can be set globally using :rc:`legend.labelcolor`. If None,\n",
              "    use :rc:`text.color`.\n",
              "\n",
              "numpoints : int, default: :rc:`legend.numpoints`\n",
              "    The number of marker points in the legend when creating a legend\n",
              "    entry for a `.Line2D` (line).\n",
              "\n",
              "scatterpoints : int, default: :rc:`legend.scatterpoints`\n",
              "    The number of marker points in the legend when creating\n",
              "    a legend entry for a `.PathCollection` (scatter plot).\n",
              "\n",
              "scatteryoffsets : iterable of floats, default: ``[0.375, 0.5, 0.3125]``\n",
              "    The vertical offset (relative to the font size) for the markers\n",
              "    created for a scatter plot legend entry. 0.0 is at the base the\n",
              "    legend text, and 1.0 is at the top. To draw all markers at the\n",
              "    same height, set to ``[0.5]``.\n",
              "\n",
              "markerscale : float, default: :rc:`legend.markerscale`\n",
              "    The relative size of legend markers compared to the originally drawn ones.\n",
              "\n",
              "markerfirst : bool, default: True\n",
              "    If *True*, legend marker is placed to the left of the legend label.\n",
              "    If *False*, legend marker is placed to the right of the legend label.\n",
              "\n",
              "reverse : bool, default: False\n",
              "    If *True*, the legend labels are displayed in reverse order from the input.\n",
              "    If *False*, the legend labels are displayed in the same order as the input.\n",
              "\n",
              "    .. versionadded:: 3.7\n",
              "\n",
              "frameon : bool, default: :rc:`legend.frameon`\n",
              "    Whether the legend should be drawn on a patch (frame).\n",
              "\n",
              "fancybox : bool, default: :rc:`legend.fancybox`\n",
              "    Whether round edges should be enabled around the `.FancyBboxPatch` which\n",
              "    makes up the legend&#x27;s background.\n",
              "\n",
              "shadow : bool, default: :rc:`legend.shadow`\n",
              "    Whether to draw a shadow behind the legend.\n",
              "\n",
              "framealpha : float, default: :rc:`legend.framealpha`\n",
              "    The alpha transparency of the legend&#x27;s background.\n",
              "    If *shadow* is activated and *framealpha* is ``None``, the default value is\n",
              "    ignored.\n",
              "\n",
              "facecolor : &quot;inherit&quot; or color, default: :rc:`legend.facecolor`\n",
              "    The legend&#x27;s background color.\n",
              "    If ``&quot;inherit&quot;``, use :rc:`axes.facecolor`.\n",
              "\n",
              "edgecolor : &quot;inherit&quot; or color, default: :rc:`legend.edgecolor`\n",
              "    The legend&#x27;s background patch edge color.\n",
              "    If ``&quot;inherit&quot;``, use take :rc:`axes.edgecolor`.\n",
              "\n",
              "mode : {&quot;expand&quot;, None}\n",
              "    If *mode* is set to ``&quot;expand&quot;`` the legend will be horizontally\n",
              "    expanded to fill the axes area (or *bbox_to_anchor* if defines\n",
              "    the legend&#x27;s size).\n",
              "\n",
              "bbox_transform : None or `matplotlib.transforms.Transform`\n",
              "    The transform for the bounding box (*bbox_to_anchor*). For a value\n",
              "    of ``None`` (default) the Axes&#x27;\n",
              "    :data:`~matplotlib.axes.Axes.transAxes` transform will be used.\n",
              "\n",
              "title : str or None\n",
              "    The legend&#x27;s title. Default is no title (``None``).\n",
              "\n",
              "title_fontproperties : None or `matplotlib.font_manager.FontProperties` or dict\n",
              "    The font properties of the legend&#x27;s title. If None (default), the\n",
              "    *title_fontsize* argument will be used if present; if *title_fontsize* is\n",
              "    also None, the current :rc:`legend.title_fontsize` will be used.\n",
              "\n",
              "title_fontsize : int or {&#x27;xx-small&#x27;, &#x27;x-small&#x27;, &#x27;small&#x27;, &#x27;medium&#x27;, &#x27;large&#x27;, &#x27;x-large&#x27;, &#x27;xx-large&#x27;}, default: :rc:`legend.title_fontsize`\n",
              "    The font size of the legend&#x27;s title.\n",
              "    Note: This cannot be combined with *title_fontproperties*. If you want\n",
              "    to set the fontsize alongside other font properties, use the *size*\n",
              "    parameter in *title_fontproperties*.\n",
              "\n",
              "alignment : {&#x27;center&#x27;, &#x27;left&#x27;, &#x27;right&#x27;}, default: &#x27;center&#x27;\n",
              "    The alignment of the legend title and the box of entries. The entries\n",
              "    are aligned as a single block, so that markers always lined up.\n",
              "\n",
              "borderpad : float, default: :rc:`legend.borderpad`\n",
              "    The fractional whitespace inside the legend border, in font-size units.\n",
              "\n",
              "labelspacing : float, default: :rc:`legend.labelspacing`\n",
              "    The vertical space between the legend entries, in font-size units.\n",
              "\n",
              "handlelength : float, default: :rc:`legend.handlelength`\n",
              "    The length of the legend handles, in font-size units.\n",
              "\n",
              "handleheight : float, default: :rc:`legend.handleheight`\n",
              "    The height of the legend handles, in font-size units.\n",
              "\n",
              "handletextpad : float, default: :rc:`legend.handletextpad`\n",
              "    The pad between the legend handle and text, in font-size units.\n",
              "\n",
              "borderaxespad : float, default: :rc:`legend.borderaxespad`\n",
              "    The pad between the axes and legend border, in font-size units.\n",
              "\n",
              "columnspacing : float, default: :rc:`legend.columnspacing`\n",
              "    The spacing between columns, in font-size units.\n",
              "\n",
              "handler_map : dict or None\n",
              "    The custom dictionary mapping instances or types to a legend\n",
              "    handler. This *handler_map* updates the default handler map\n",
              "    found at `matplotlib.legend.Legend.get_legend_handler_map`.\n",
              "\n",
              "draggable : bool, default: False\n",
              "    Whether the legend can be dragged with the mouse.\n",
              "\n",
              "\n",
              "See Also\n",
              "--------\n",
              ".Figure.legend\n",
              "\n",
              "Notes\n",
              "-----\n",
              "Some artists are not supported by this function.  See\n",
              ":doc:`/tutorials/intermediate/legend_guide` for details.\n",
              "\n",
              "Examples\n",
              "--------\n",
              ".. plot:: gallery/text_labels_and_annotations/legend.py</pre>\n",
              "      <script>\n",
              "      if (google.colab.kernel.accessAllowed && google.colab.files && google.colab.files.view) {\n",
              "        for (const element of document.querySelectorAll('.filepath')) {\n",
              "          element.style.display = 'block'\n",
              "          element.onclick = (event) => {\n",
              "            event.preventDefault();\n",
              "            event.stopPropagation();\n",
              "            google.colab.files.view(element.textContent, 2708);\n",
              "          };\n",
              "        }\n",
              "      }\n",
              "      for (const element of document.querySelectorAll('.function-repr-contents')) {\n",
              "        element.onclick = (event) => {\n",
              "          event.preventDefault();\n",
              "          event.stopPropagation();\n",
              "          element.classList.toggle('function-repr-contents-collapsed');\n",
              "        };\n",
              "      }\n",
              "      </script>\n",
              "      </div>"
            ]
          },
          "metadata": {},
          "execution_count": 30
        },
        {
          "output_type": "display_data",
          "data": {
            "text/plain": [
              "<Figure size 640x480 with 1 Axes>"
            ],
            "image/png": "[encoded data removed]"
          },
          "metadata": {}
        }
      ]
    },
    {
      "cell_type": "code",
      "source": [
        "#see actual no how many correct\n",
        "test_load_everything= DataLoader(test_data,batch_size=1000,shuffle=False)"
      ],
      "metadata": {
        "id": "ALvrFZFbTnkv"
      },
      "execution_count": 31,
      "outputs": []
    },
    {
      "cell_type": "code",
      "source": [
        "with torch.no_grad():\n",
        "  correct=0\n",
        "  for X_test,y_test in test_load_everything:\n",
        "      y_val = model(X_test)\n",
        "      prediction = torch.max(y_val,1)[1]\n",
        "      correct += (prediction==y_test).sum().item()"
      ],
      "metadata": {
        "id": "2onSO1BJUrG0"
      },
      "execution_count": 32,
      "outputs": []
    },
    {
      "cell_type": "code",
      "source": [
        "correct"
      ],
      "metadata": {
        "colab": {
          "base_uri": "https://localhost:8080/"
        },
        "id": "dkz2Ms9MUytp",
        "outputId": "eb7319f3-2c67-4475-d5d9-a01143e873aa"
      },
      "execution_count": 33,
      "outputs": [
        {
          "output_type": "execute_result",
          "data": {
            "text/plain": [
              "9873"
            ]
          },
          "metadata": {},
          "execution_count": 33
        }
      ]
    },
    {
      "cell_type": "code",
      "source": [
        "#grab the image from test_data\n",
        "test_data[1735]"
      ],
      "metadata": {
        "id": "STtWnQtYU7qG",
        "colab": {
          "base_uri": "https://localhost:8080/"
        },
        "outputId": "33484cec-6dd6-4225-a729-41df942ab373"
      },
      "execution_count": 34,
      "outputs": [
        {
          "output_type": "execute_result",
          "data": {
            "text/plain": [
              "(tensor([[[0.0000, 0.0000, 0.0000, 0.0000, 0.0000, 0.0000, 0.0000, 0.0000,\n",
              "           0.0000, 0.0000, 0.0000, 0.0000, 0.0000, 0.0000, 0.0000, 0.0000,\n",
              "           0.0000, 0.0000, 0.0000, 0.0000, 0.0000, 0.0000, 0.0000, 0.0000,\n",
              "           0.0000, 0.0000, 0.0000, 0.0000],\n",
              "          [0.0000, 0.0000, 0.0000, 0.0000, 0.0000, 0.0000, 0.0000, 0.0000,\n",
              "           0.0000, 0.0000, 0.0000, 0.0000, 0.0000, 0.0000, 0.0000, 0.0000,\n",
              "           0.0000, 0.0000, 0.0000, 0.0000, 0.0000, 0.0000, 0.0000, 0.0000,\n",
              "           0.0000, 0.0000, 0.0000, 0.0000],\n",
              "          [0.0000, 0.0000, 0.0000, 0.0000, 0.0000, 0.0000, 0.0000, 0.0000,\n",
              "           0.0000, 0.0000, 0.0000, 0.0000, 0.0000, 0.0000, 0.0000, 0.0000,\n",
              "           0.0000, 0.0000, 0.0000, 0.0000, 0.0000, 0.0000, 0.0000, 0.0000,\n",
              "           0.0000, 0.0000, 0.0000, 0.0000],\n",
              "          [0.0000, 0.0000, 0.0000, 0.0000, 0.0000, 0.0000, 0.0000, 0.0000,\n",
              "           0.0000, 0.0000, 0.0000, 0.0000, 0.0000, 0.0000, 0.0000, 0.0000,\n",
              "           0.0000, 0.0000, 0.0000, 0.0000, 0.0000, 0.0000, 0.0000, 0.0000,\n",
              "           0.0000, 0.0000, 0.0000, 0.0000],\n",
              "          [0.0000, 0.0000, 0.0000, 0.0000, 0.0000, 0.0000, 0.0000, 0.0000,\n",
              "           0.0000, 0.0000, 0.0000, 0.0000, 0.0000, 0.0000, 0.0000, 0.0000,\n",
              "           0.0000, 0.0000, 0.0000, 0.0000, 0.0000, 0.0000, 0.0000, 0.0000,\n",
              "           0.0000, 0.0000, 0.0000, 0.0000],\n",
              "          [0.0000, 0.0000, 0.0000, 0.0000, 0.0000, 0.0000, 0.0000, 0.0000,\n",
              "           0.0000, 0.0000, 0.0000, 0.0000, 0.0000, 0.0000, 0.0000, 0.0000,\n",
              "           0.6824, 0.3686, 0.0000, 0.0000, 0.0000, 0.0000, 0.0000, 0.0000,\n",
              "           0.0000, 0.0000, 0.0000, 0.0000],\n",
              "          [0.0000, 0.0000, 0.0000, 0.0000, 0.0000, 0.0000, 0.0000, 0.0000,\n",
              "           0.0000, 0.0000, 0.0000, 0.0941, 0.2706, 0.0000, 0.0000, 0.0275,\n",
              "           0.9020, 0.5294, 0.0000, 0.0000, 0.0000, 0.0000, 0.0000, 0.0000,\n",
              "           0.0000, 0.0000, 0.0000, 0.0000],\n",
              "          [0.0000, 0.0000, 0.0000, 0.0000, 0.0000, 0.0000, 0.0000, 0.0000,\n",
              "           0.0000, 0.0000, 0.0000, 0.5490, 0.9608, 0.1059, 0.0000, 0.0353,\n",
              "           0.9529, 0.8549, 0.0000, 0.0000, 0.0000, 0.0000, 0.0000, 0.0000,\n",
              "           0.0000, 0.0000, 0.0000, 0.0000],\n",
              "          [0.0000, 0.0000, 0.0000, 0.0000, 0.0000, 0.0000, 0.0000, 0.0000,\n",
              "           0.0000, 0.0000, 0.0000, 0.5490, 0.9098, 0.0549, 0.0000, 0.0157,\n",
              "           0.8275, 0.8353, 0.0627, 0.0000, 0.0000, 0.0000, 0.0000, 0.0000,\n",
              "           0.0000, 0.0000, 0.0000, 0.0000],\n",
              "          [0.0000, 0.0000, 0.0000, 0.0000, 0.0000, 0.0000, 0.0000, 0.0000,\n",
              "           0.0000, 0.0000, 0.0275, 0.7255, 0.5765, 0.0000, 0.0000, 0.0235,\n",
              "           0.8784, 0.3647, 0.0000, 0.0000, 0.0000, 0.0000, 0.0000, 0.0000,\n",
              "           0.0000, 0.0000, 0.0000, 0.0000],\n",
              "          [0.0000, 0.0000, 0.0000, 0.0000, 0.0000, 0.0000, 0.0000, 0.0000,\n",
              "           0.0000, 0.0000, 0.4039, 0.9961, 0.2706, 0.0000, 0.0000, 0.0392,\n",
              "           0.9765, 0.3647, 0.0000, 0.0000, 0.0000, 0.0000, 0.0000, 0.0000,\n",
              "           0.0000, 0.0000, 0.0000, 0.0000],\n",
              "          [0.0000, 0.0000, 0.0000, 0.0000, 0.0000, 0.0000, 0.0000, 0.0000,\n",
              "           0.0000, 0.0588, 0.8314, 0.6353, 0.0039, 0.0000, 0.0000, 0.0353,\n",
              "           0.9529, 0.3647, 0.0000, 0.0000, 0.0000, 0.0000, 0.0000, 0.0000,\n",
              "           0.0000, 0.0000, 0.0000, 0.0000],\n",
              "          [0.0000, 0.0000, 0.0000, 0.0000, 0.0000, 0.0000, 0.0000, 0.0000,\n",
              "           0.0000, 0.2745, 0.9843, 0.3216, 0.0000, 0.0000, 0.0000, 0.0431,\n",
              "           0.9961, 0.3647, 0.0000, 0.0000, 0.0000, 0.0000, 0.0000, 0.0000,\n",
              "           0.0000, 0.0000, 0.0000, 0.0000],\n",
              "          [0.0000, 0.0000, 0.0000, 0.0000, 0.0000, 0.0000, 0.0000, 0.0000,\n",
              "           0.0235, 0.8078, 0.7294, 0.0000, 0.0000, 0.0000, 0.0000, 0.0431,\n",
              "           0.9961, 0.3647, 0.0000, 0.0000, 0.0000, 0.0000, 0.0000, 0.0000,\n",
              "           0.0000, 0.0000, 0.0000, 0.0000],\n",
              "          [0.0000, 0.0000, 0.0000, 0.0000, 0.0000, 0.0000, 0.0000, 0.0000,\n",
              "           0.4471, 0.9647, 0.2118, 0.5765, 0.7059, 0.5373, 0.0392, 0.0431,\n",
              "           1.0000, 0.3647, 0.0000, 0.0000, 0.0000, 0.0000, 0.0000, 0.0000,\n",
              "           0.0000, 0.0000, 0.0000, 0.0000],\n",
              "          [0.0000, 0.0000, 0.0000, 0.0000, 0.0000, 0.0000, 0.0000, 0.0706,\n",
              "           0.9490, 0.8980, 0.9020, 0.9137, 0.7020, 0.9529, 0.7216, 0.0824,\n",
              "           1.0000, 0.3647, 0.0000, 0.0000, 0.0000, 0.0000, 0.0000, 0.0000,\n",
              "           0.0000, 0.0000, 0.0000, 0.0000],\n",
              "          [0.0000, 0.0000, 0.0000, 0.0000, 0.0000, 0.0000, 0.0000, 0.6196,\n",
              "           0.9961, 0.9098, 0.4510, 0.1216, 0.0000, 0.1647, 0.9059, 0.7686,\n",
              "           0.9961, 0.4275, 0.1647, 0.0000, 0.0000, 0.0000, 0.0000, 0.0000,\n",
              "           0.0000, 0.0000, 0.0000, 0.0000],\n",
              "          [0.0000, 0.0000, 0.0000, 0.0000, 0.0000, 0.0000, 0.0000, 0.7412,\n",
              "           0.5647, 0.0549, 0.0000, 0.0000, 0.0000, 0.0000, 0.1490, 0.8706,\n",
              "           0.9961, 0.8863, 0.4824, 0.0000, 0.0000, 0.0000, 0.0000, 0.0000,\n",
              "           0.0000, 0.0000, 0.0000, 0.0000],\n",
              "          [0.0000, 0.0000, 0.0000, 0.0000, 0.0000, 0.0000, 0.0000, 0.0000,\n",
              "           0.0000, 0.0000, 0.0000, 0.0000, 0.0000, 0.0000, 0.0000, 0.3922,\n",
              "           0.9961, 0.8706, 0.1686, 0.0000, 0.0000, 0.0000, 0.0000, 0.0000,\n",
              "           0.0000, 0.0000, 0.0000, 0.0000],\n",
              "          [0.0000, 0.0000, 0.0000, 0.0000, 0.0000, 0.0000, 0.0000, 0.0000,\n",
              "           0.0000, 0.0000, 0.0000, 0.0000, 0.0000, 0.0000, 0.0000, 0.3255,\n",
              "           1.0000, 0.1882, 0.0000, 0.0000, 0.0000, 0.0000, 0.0000, 0.0000,\n",
              "           0.0000, 0.0000, 0.0000, 0.0000],\n",
              "          [0.0000, 0.0000, 0.0000, 0.0000, 0.0000, 0.0000, 0.0000, 0.0000,\n",
              "           0.0000, 0.0000, 0.0000, 0.0000, 0.0000, 0.0000, 0.0000, 0.3255,\n",
              "           0.9961, 0.0824, 0.0000, 0.0000, 0.0000, 0.0000, 0.0000, 0.0000,\n",
              "           0.0000, 0.0000, 0.0000, 0.0000],\n",
              "          [0.0000, 0.0000, 0.0000, 0.0000, 0.0000, 0.0000, 0.0000, 0.0000,\n",
              "           0.0000, 0.0000, 0.0000, 0.0000, 0.0000, 0.0000, 0.0000, 0.3255,\n",
              "           0.9216, 0.0510, 0.0000, 0.0000, 0.0000, 0.0000, 0.0000, 0.0000,\n",
              "           0.0000, 0.0000, 0.0000, 0.0000],\n",
              "          [0.0000, 0.0000, 0.0000, 0.0000, 0.0000, 0.0000, 0.0000, 0.0000,\n",
              "           0.0000, 0.0000, 0.0000, 0.0000, 0.0000, 0.0000, 0.0000, 0.3255,\n",
              "           0.8510, 0.0235, 0.0000, 0.0000, 0.0000, 0.0000, 0.0000, 0.0000,\n",
              "           0.0000, 0.0000, 0.0000, 0.0000],\n",
              "          [0.0000, 0.0000, 0.0000, 0.0000, 0.0000, 0.0000, 0.0000, 0.0000,\n",
              "           0.0000, 0.0000, 0.0000, 0.0000, 0.0000, 0.0000, 0.0000, 0.3255,\n",
              "           0.8627, 0.0275, 0.0000, 0.0000, 0.0000, 0.0000, 0.0000, 0.0000,\n",
              "           0.0000, 0.0000, 0.0000, 0.0000],\n",
              "          [0.0000, 0.0000, 0.0000, 0.0000, 0.0000, 0.0000, 0.0000, 0.0000,\n",
              "           0.0000, 0.0000, 0.0000, 0.0000, 0.0000, 0.0000, 0.0000, 0.3255,\n",
              "           0.7216, 0.0000, 0.0000, 0.0000, 0.0000, 0.0000, 0.0000, 0.0000,\n",
              "           0.0000, 0.0000, 0.0000, 0.0000],\n",
              "          [0.0000, 0.0000, 0.0000, 0.0000, 0.0000, 0.0000, 0.0000, 0.0000,\n",
              "           0.0000, 0.0000, 0.0000, 0.0000, 0.0000, 0.0000, 0.0000, 0.0000,\n",
              "           0.0000, 0.0000, 0.0000, 0.0000, 0.0000, 0.0000, 0.0000, 0.0000,\n",
              "           0.0000, 0.0000, 0.0000, 0.0000],\n",
              "          [0.0000, 0.0000, 0.0000, 0.0000, 0.0000, 0.0000, 0.0000, 0.0000,\n",
              "           0.0000, 0.0000, 0.0000, 0.0000, 0.0000, 0.0000, 0.0000, 0.0000,\n",
              "           0.0000, 0.0000, 0.0000, 0.0000, 0.0000, 0.0000, 0.0000, 0.0000,\n",
              "           0.0000, 0.0000, 0.0000, 0.0000],\n",
              "          [0.0000, 0.0000, 0.0000, 0.0000, 0.0000, 0.0000, 0.0000, 0.0000,\n",
              "           0.0000, 0.0000, 0.0000, 0.0000, 0.0000, 0.0000, 0.0000, 0.0000,\n",
              "           0.0000, 0.0000, 0.0000, 0.0000, 0.0000, 0.0000, 0.0000, 0.0000,\n",
              "           0.0000, 0.0000, 0.0000, 0.0000]]]),\n",
              " 4)"
            ]
          },
          "metadata": {},
          "execution_count": 34
        }
      ]
    },
    {
      "cell_type": "code",
      "source": [
        "#grab the data\n",
        "test_data[1735][0]"
      ],
      "metadata": {
        "colab": {
          "base_uri": "https://localhost:8080/"
        },
        "id": "CV2cPjc_4ZCb",
        "outputId": "0712a1bb-61b8-4fd0-ae41-0fa76773c5bd"
      },
      "execution_count": 35,
      "outputs": [
        {
          "output_type": "execute_result",
          "data": {
            "text/plain": [
              "tensor([[[0.0000, 0.0000, 0.0000, 0.0000, 0.0000, 0.0000, 0.0000, 0.0000,\n",
              "          0.0000, 0.0000, 0.0000, 0.0000, 0.0000, 0.0000, 0.0000, 0.0000,\n",
              "          0.0000, 0.0000, 0.0000, 0.0000, 0.0000, 0.0000, 0.0000, 0.0000,\n",
              "          0.0000, 0.0000, 0.0000, 0.0000],\n",
              "         [0.0000, 0.0000, 0.0000, 0.0000, 0.0000, 0.0000, 0.0000, 0.0000,\n",
              "          0.0000, 0.0000, 0.0000, 0.0000, 0.0000, 0.0000, 0.0000, 0.0000,\n",
              "          0.0000, 0.0000, 0.0000, 0.0000, 0.0000, 0.0000, 0.0000, 0.0000,\n",
              "          0.0000, 0.0000, 0.0000, 0.0000],\n",
              "         [0.0000, 0.0000, 0.0000, 0.0000, 0.0000, 0.0000, 0.0000, 0.0000,\n",
              "          0.0000, 0.0000, 0.0000, 0.0000, 0.0000, 0.0000, 0.0000, 0.0000,\n",
              "          0.0000, 0.0000, 0.0000, 0.0000, 0.0000, 0.0000, 0.0000, 0.0000,\n",
              "          0.0000, 0.0000, 0.0000, 0.0000],\n",
              "         [0.0000, 0.0000, 0.0000, 0.0000, 0.0000, 0.0000, 0.0000, 0.0000,\n",
              "          0.0000, 0.0000, 0.0000, 0.0000, 0.0000, 0.0000, 0.0000, 0.0000,\n",
              "          0.0000, 0.0000, 0.0000, 0.0000, 0.0000, 0.0000, 0.0000, 0.0000,\n",
              "          0.0000, 0.0000, 0.0000, 0.0000],\n",
              "         [0.0000, 0.0000, 0.0000, 0.0000, 0.0000, 0.0000, 0.0000, 0.0000,\n",
              "          0.0000, 0.0000, 0.0000, 0.0000, 0.0000, 0.0000, 0.0000, 0.0000,\n",
              "          0.0000, 0.0000, 0.0000, 0.0000, 0.0000, 0.0000, 0.0000, 0.0000,\n",
              "          0.0000, 0.0000, 0.0000, 0.0000],\n",
              "         [0.0000, 0.0000, 0.0000, 0.0000, 0.0000, 0.0000, 0.0000, 0.0000,\n",
              "          0.0000, 0.0000, 0.0000, 0.0000, 0.0000, 0.0000, 0.0000, 0.0000,\n",
              "          0.6824, 0.3686, 0.0000, 0.0000, 0.0000, 0.0000, 0.0000, 0.0000,\n",
              "          0.0000, 0.0000, 0.0000, 0.0000],\n",
              "         [0.0000, 0.0000, 0.0000, 0.0000, 0.0000, 0.0000, 0.0000, 0.0000,\n",
              "          0.0000, 0.0000, 0.0000, 0.0941, 0.2706, 0.0000, 0.0000, 0.0275,\n",
              "          0.9020, 0.5294, 0.0000, 0.0000, 0.0000, 0.0000, 0.0000, 0.0000,\n",
              "          0.0000, 0.0000, 0.0000, 0.0000],\n",
              "         [0.0000, 0.0000, 0.0000, 0.0000, 0.0000, 0.0000, 0.0000, 0.0000,\n",
              "          0.0000, 0.0000, 0.0000, 0.5490, 0.9608, 0.1059, 0.0000, 0.0353,\n",
              "          0.9529, 0.8549, 0.0000, 0.0000, 0.0000, 0.0000, 0.0000, 0.0000,\n",
              "          0.0000, 0.0000, 0.0000, 0.0000],\n",
              "         [0.0000, 0.0000, 0.0000, 0.0000, 0.0000, 0.0000, 0.0000, 0.0000,\n",
              "          0.0000, 0.0000, 0.0000, 0.5490, 0.9098, 0.0549, 0.0000, 0.0157,\n",
              "          0.8275, 0.8353, 0.0627, 0.0000, 0.0000, 0.0000, 0.0000, 0.0000,\n",
              "          0.0000, 0.0000, 0.0000, 0.0000],\n",
              "         [0.0000, 0.0000, 0.0000, 0.0000, 0.0000, 0.0000, 0.0000, 0.0000,\n",
              "          0.0000, 0.0000, 0.0275, 0.7255, 0.5765, 0.0000, 0.0000, 0.0235,\n",
              "          0.8784, 0.3647, 0.0000, 0.0000, 0.0000, 0.0000, 0.0000, 0.0000,\n",
              "          0.0000, 0.0000, 0.0000, 0.0000],\n",
              "         [0.0000, 0.0000, 0.0000, 0.0000, 0.0000, 0.0000, 0.0000, 0.0000,\n",
              "          0.0000, 0.0000, 0.4039, 0.9961, 0.2706, 0.0000, 0.0000, 0.0392,\n",
              "          0.9765, 0.3647, 0.0000, 0.0000, 0.0000, 0.0000, 0.0000, 0.0000,\n",
              "          0.0000, 0.0000, 0.0000, 0.0000],\n",
              "         [0.0000, 0.0000, 0.0000, 0.0000, 0.0000, 0.0000, 0.0000, 0.0000,\n",
              "          0.0000, 0.0588, 0.8314, 0.6353, 0.0039, 0.0000, 0.0000, 0.0353,\n",
              "          0.9529, 0.3647, 0.0000, 0.0000, 0.0000, 0.0000, 0.0000, 0.0000,\n",
              "          0.0000, 0.0000, 0.0000, 0.0000],\n",
              "         [0.0000, 0.0000, 0.0000, 0.0000, 0.0000, 0.0000, 0.0000, 0.0000,\n",
              "          0.0000, 0.2745, 0.9843, 0.3216, 0.0000, 0.0000, 0.0000, 0.0431,\n",
              "          0.9961, 0.3647, 0.0000, 0.0000, 0.0000, 0.0000, 0.0000, 0.0000,\n",
              "          0.0000, 0.0000, 0.0000, 0.0000],\n",
              "         [0.0000, 0.0000, 0.0000, 0.0000, 0.0000, 0.0000, 0.0000, 0.0000,\n",
              "          0.0235, 0.8078, 0.7294, 0.0000, 0.0000, 0.0000, 0.0000, 0.0431,\n",
              "          0.9961, 0.3647, 0.0000, 0.0000, 0.0000, 0.0000, 0.0000, 0.0000,\n",
              "          0.0000, 0.0000, 0.0000, 0.0000],\n",
              "         [0.0000, 0.0000, 0.0000, 0.0000, 0.0000, 0.0000, 0.0000, 0.0000,\n",
              "          0.4471, 0.9647, 0.2118, 0.5765, 0.7059, 0.5373, 0.0392, 0.0431,\n",
              "          1.0000, 0.3647, 0.0000, 0.0000, 0.0000, 0.0000, 0.0000, 0.0000,\n",
              "          0.0000, 0.0000, 0.0000, 0.0000],\n",
              "         [0.0000, 0.0000, 0.0000, 0.0000, 0.0000, 0.0000, 0.0000, 0.0706,\n",
              "          0.9490, 0.8980, 0.9020, 0.9137, 0.7020, 0.9529, 0.7216, 0.0824,\n",
              "          1.0000, 0.3647, 0.0000, 0.0000, 0.0000, 0.0000, 0.0000, 0.0000,\n",
              "          0.0000, 0.0000, 0.0000, 0.0000],\n",
              "         [0.0000, 0.0000, 0.0000, 0.0000, 0.0000, 0.0000, 0.0000, 0.6196,\n",
              "          0.9961, 0.9098, 0.4510, 0.1216, 0.0000, 0.1647, 0.9059, 0.7686,\n",
              "          0.9961, 0.4275, 0.1647, 0.0000, 0.0000, 0.0000, 0.0000, 0.0000,\n",
              "          0.0000, 0.0000, 0.0000, 0.0000],\n",
              "         [0.0000, 0.0000, 0.0000, 0.0000, 0.0000, 0.0000, 0.0000, 0.7412,\n",
              "          0.5647, 0.0549, 0.0000, 0.0000, 0.0000, 0.0000, 0.1490, 0.8706,\n",
              "          0.9961, 0.8863, 0.4824, 0.0000, 0.0000, 0.0000, 0.0000, 0.0000,\n",
              "          0.0000, 0.0000, 0.0000, 0.0000],\n",
              "         [0.0000, 0.0000, 0.0000, 0.0000, 0.0000, 0.0000, 0.0000, 0.0000,\n",
              "          0.0000, 0.0000, 0.0000, 0.0000, 0.0000, 0.0000, 0.0000, 0.3922,\n",
              "          0.9961, 0.8706, 0.1686, 0.0000, 0.0000, 0.0000, 0.0000, 0.0000,\n",
              "          0.0000, 0.0000, 0.0000, 0.0000],\n",
              "         [0.0000, 0.0000, 0.0000, 0.0000, 0.0000, 0.0000, 0.0000, 0.0000,\n",
              "          0.0000, 0.0000, 0.0000, 0.0000, 0.0000, 0.0000, 0.0000, 0.3255,\n",
              "          1.0000, 0.1882, 0.0000, 0.0000, 0.0000, 0.0000, 0.0000, 0.0000,\n",
              "          0.0000, 0.0000, 0.0000, 0.0000],\n",
              "         [0.0000, 0.0000, 0.0000, 0.0000, 0.0000, 0.0000, 0.0000, 0.0000,\n",
              "          0.0000, 0.0000, 0.0000, 0.0000, 0.0000, 0.0000, 0.0000, 0.3255,\n",
              "          0.9961, 0.0824, 0.0000, 0.0000, 0.0000, 0.0000, 0.0000, 0.0000,\n",
              "          0.0000, 0.0000, 0.0000, 0.0000],\n",
              "         [0.0000, 0.0000, 0.0000, 0.0000, 0.0000, 0.0000, 0.0000, 0.0000,\n",
              "          0.0000, 0.0000, 0.0000, 0.0000, 0.0000, 0.0000, 0.0000, 0.3255,\n",
              "          0.9216, 0.0510, 0.0000, 0.0000, 0.0000, 0.0000, 0.0000, 0.0000,\n",
              "          0.0000, 0.0000, 0.0000, 0.0000],\n",
              "         [0.0000, 0.0000, 0.0000, 0.0000, 0.0000, 0.0000, 0.0000, 0.0000,\n",
              "          0.0000, 0.0000, 0.0000, 0.0000, 0.0000, 0.0000, 0.0000, 0.3255,\n",
              "          0.8510, 0.0235, 0.0000, 0.0000, 0.0000, 0.0000, 0.0000, 0.0000,\n",
              "          0.0000, 0.0000, 0.0000, 0.0000],\n",
              "         [0.0000, 0.0000, 0.0000, 0.0000, 0.0000, 0.0000, 0.0000, 0.0000,\n",
              "          0.0000, 0.0000, 0.0000, 0.0000, 0.0000, 0.0000, 0.0000, 0.3255,\n",
              "          0.8627, 0.0275, 0.0000, 0.0000, 0.0000, 0.0000, 0.0000, 0.0000,\n",
              "          0.0000, 0.0000, 0.0000, 0.0000],\n",
              "         [0.0000, 0.0000, 0.0000, 0.0000, 0.0000, 0.0000, 0.0000, 0.0000,\n",
              "          0.0000, 0.0000, 0.0000, 0.0000, 0.0000, 0.0000, 0.0000, 0.3255,\n",
              "          0.7216, 0.0000, 0.0000, 0.0000, 0.0000, 0.0000, 0.0000, 0.0000,\n",
              "          0.0000, 0.0000, 0.0000, 0.0000],\n",
              "         [0.0000, 0.0000, 0.0000, 0.0000, 0.0000, 0.0000, 0.0000, 0.0000,\n",
              "          0.0000, 0.0000, 0.0000, 0.0000, 0.0000, 0.0000, 0.0000, 0.0000,\n",
              "          0.0000, 0.0000, 0.0000, 0.0000, 0.0000, 0.0000, 0.0000, 0.0000,\n",
              "          0.0000, 0.0000, 0.0000, 0.0000],\n",
              "         [0.0000, 0.0000, 0.0000, 0.0000, 0.0000, 0.0000, 0.0000, 0.0000,\n",
              "          0.0000, 0.0000, 0.0000, 0.0000, 0.0000, 0.0000, 0.0000, 0.0000,\n",
              "          0.0000, 0.0000, 0.0000, 0.0000, 0.0000, 0.0000, 0.0000, 0.0000,\n",
              "          0.0000, 0.0000, 0.0000, 0.0000],\n",
              "         [0.0000, 0.0000, 0.0000, 0.0000, 0.0000, 0.0000, 0.0000, 0.0000,\n",
              "          0.0000, 0.0000, 0.0000, 0.0000, 0.0000, 0.0000, 0.0000, 0.0000,\n",
              "          0.0000, 0.0000, 0.0000, 0.0000, 0.0000, 0.0000, 0.0000, 0.0000,\n",
              "          0.0000, 0.0000, 0.0000, 0.0000]]])"
            ]
          },
          "metadata": {},
          "execution_count": 35
        }
      ]
    },
    {
      "cell_type": "code",
      "source": [
        "#reshape\n",
        "test_data[1735][0].reshape(28,28)"
      ],
      "metadata": {
        "colab": {
          "base_uri": "https://localhost:8080/"
        },
        "id": "jsGiT06t4yGX",
        "outputId": "aa753e35-84ca-479e-8214-b65ba1d4d9d3"
      },
      "execution_count": 36,
      "outputs": [
        {
          "output_type": "execute_result",
          "data": {
            "text/plain": [
              "tensor([[0.0000, 0.0000, 0.0000, 0.0000, 0.0000, 0.0000, 0.0000, 0.0000, 0.0000,\n",
              "         0.0000, 0.0000, 0.0000, 0.0000, 0.0000, 0.0000, 0.0000, 0.0000, 0.0000,\n",
              "         0.0000, 0.0000, 0.0000, 0.0000, 0.0000, 0.0000, 0.0000, 0.0000, 0.0000,\n",
              "         0.0000],\n",
              "        [0.0000, 0.0000, 0.0000, 0.0000, 0.0000, 0.0000, 0.0000, 0.0000, 0.0000,\n",
              "         0.0000, 0.0000, 0.0000, 0.0000, 0.0000, 0.0000, 0.0000, 0.0000, 0.0000,\n",
              "         0.0000, 0.0000, 0.0000, 0.0000, 0.0000, 0.0000, 0.0000, 0.0000, 0.0000,\n",
              "         0.0000],\n",
              "        [0.0000, 0.0000, 0.0000, 0.0000, 0.0000, 0.0000, 0.0000, 0.0000, 0.0000,\n",
              "         0.0000, 0.0000, 0.0000, 0.0000, 0.0000, 0.0000, 0.0000, 0.0000, 0.0000,\n",
              "         0.0000, 0.0000, 0.0000, 0.0000, 0.0000, 0.0000, 0.0000, 0.0000, 0.0000,\n",
              "         0.0000],\n",
              "        [0.0000, 0.0000, 0.0000, 0.0000, 0.0000, 0.0000, 0.0000, 0.0000, 0.0000,\n",
              "         0.0000, 0.0000, 0.0000, 0.0000, 0.0000, 0.0000, 0.0000, 0.0000, 0.0000,\n",
              "         0.0000, 0.0000, 0.0000, 0.0000, 0.0000, 0.0000, 0.0000, 0.0000, 0.0000,\n",
              "         0.0000],\n",
              "        [0.0000, 0.0000, 0.0000, 0.0000, 0.0000, 0.0000, 0.0000, 0.0000, 0.0000,\n",
              "         0.0000, 0.0000, 0.0000, 0.0000, 0.0000, 0.0000, 0.0000, 0.0000, 0.0000,\n",
              "         0.0000, 0.0000, 0.0000, 0.0000, 0.0000, 0.0000, 0.0000, 0.0000, 0.0000,\n",
              "         0.0000],\n",
              "        [0.0000, 0.0000, 0.0000, 0.0000, 0.0000, 0.0000, 0.0000, 0.0000, 0.0000,\n",
              "         0.0000, 0.0000, 0.0000, 0.0000, 0.0000, 0.0000, 0.0000, 0.6824, 0.3686,\n",
              "         0.0000, 0.0000, 0.0000, 0.0000, 0.0000, 0.0000, 0.0000, 0.0000, 0.0000,\n",
              "         0.0000],\n",
              "        [0.0000, 0.0000, 0.0000, 0.0000, 0.0000, 0.0000, 0.0000, 0.0000, 0.0000,\n",
              "         0.0000, 0.0000, 0.0941, 0.2706, 0.0000, 0.0000, 0.0275, 0.9020, 0.5294,\n",
              "         0.0000, 0.0000, 0.0000, 0.0000, 0.0000, 0.0000, 0.0000, 0.0000, 0.0000,\n",
              "         0.0000],\n",
              "        [0.0000, 0.0000, 0.0000, 0.0000, 0.0000, 0.0000, 0.0000, 0.0000, 0.0000,\n",
              "         0.0000, 0.0000, 0.5490, 0.9608, 0.1059, 0.0000, 0.0353, 0.9529, 0.8549,\n",
              "         0.0000, 0.0000, 0.0000, 0.0000, 0.0000, 0.0000, 0.0000, 0.0000, 0.0000,\n",
              "         0.0000],\n",
              "        [0.0000, 0.0000, 0.0000, 0.0000, 0.0000, 0.0000, 0.0000, 0.0000, 0.0000,\n",
              "         0.0000, 0.0000, 0.5490, 0.9098, 0.0549, 0.0000, 0.0157, 0.8275, 0.8353,\n",
              "         0.0627, 0.0000, 0.0000, 0.0000, 0.0000, 0.0000, 0.0000, 0.0000, 0.0000,\n",
              "         0.0000],\n",
              "        [0.0000, 0.0000, 0.0000, 0.0000, 0.0000, 0.0000, 0.0000, 0.0000, 0.0000,\n",
              "         0.0000, 0.0275, 0.7255, 0.5765, 0.0000, 0.0000, 0.0235, 0.8784, 0.3647,\n",
              "         0.0000, 0.0000, 0.0000, 0.0000, 0.0000, 0.0000, 0.0000, 0.0000, 0.0000,\n",
              "         0.0000],\n",
              "        [0.0000, 0.0000, 0.0000, 0.0000, 0.0000, 0.0000, 0.0000, 0.0000, 0.0000,\n",
              "         0.0000, 0.4039, 0.9961, 0.2706, 0.0000, 0.0000, 0.0392, 0.9765, 0.3647,\n",
              "         0.0000, 0.0000, 0.0000, 0.0000, 0.0000, 0.0000, 0.0000, 0.0000, 0.0000,\n",
              "         0.0000],\n",
              "        [0.0000, 0.0000, 0.0000, 0.0000, 0.0000, 0.0000, 0.0000, 0.0000, 0.0000,\n",
              "         0.0588, 0.8314, 0.6353, 0.0039, 0.0000, 0.0000, 0.0353, 0.9529, 0.3647,\n",
              "         0.0000, 0.0000, 0.0000, 0.0000, 0.0000, 0.0000, 0.0000, 0.0000, 0.0000,\n",
              "         0.0000],\n",
              "        [0.0000, 0.0000, 0.0000, 0.0000, 0.0000, 0.0000, 0.0000, 0.0000, 0.0000,\n",
              "         0.2745, 0.9843, 0.3216, 0.0000, 0.0000, 0.0000, 0.0431, 0.9961, 0.3647,\n",
              "         0.0000, 0.0000, 0.0000, 0.0000, 0.0000, 0.0000, 0.0000, 0.0000, 0.0000,\n",
              "         0.0000],\n",
              "        [0.0000, 0.0000, 0.0000, 0.0000, 0.0000, 0.0000, 0.0000, 0.0000, 0.0235,\n",
              "         0.8078, 0.7294, 0.0000, 0.0000, 0.0000, 0.0000, 0.0431, 0.9961, 0.3647,\n",
              "         0.0000, 0.0000, 0.0000, 0.0000, 0.0000, 0.0000, 0.0000, 0.0000, 0.0000,\n",
              "         0.0000],\n",
              "        [0.0000, 0.0000, 0.0000, 0.0000, 0.0000, 0.0000, 0.0000, 0.0000, 0.4471,\n",
              "         0.9647, 0.2118, 0.5765, 0.7059, 0.5373, 0.0392, 0.0431, 1.0000, 0.3647,\n",
              "         0.0000, 0.0000, 0.0000, 0.0000, 0.0000, 0.0000, 0.0000, 0.0000, 0.0000,\n",
              "         0.0000],\n",
              "        [0.0000, 0.0000, 0.0000, 0.0000, 0.0000, 0.0000, 0.0000, 0.0706, 0.9490,\n",
              "         0.8980, 0.9020, 0.9137, 0.7020, 0.9529, 0.7216, 0.0824, 1.0000, 0.3647,\n",
              "         0.0000, 0.0000, 0.0000, 0.0000, 0.0000, 0.0000, 0.0000, 0.0000, 0.0000,\n",
              "         0.0000],\n",
              "        [0.0000, 0.0000, 0.0000, 0.0000, 0.0000, 0.0000, 0.0000, 0.6196, 0.9961,\n",
              "         0.9098, 0.4510, 0.1216, 0.0000, 0.1647, 0.9059, 0.7686, 0.9961, 0.4275,\n",
              "         0.1647, 0.0000, 0.0000, 0.0000, 0.0000, 0.0000, 0.0000, 0.0000, 0.0000,\n",
              "         0.0000],\n",
              "        [0.0000, 0.0000, 0.0000, 0.0000, 0.0000, 0.0000, 0.0000, 0.7412, 0.5647,\n",
              "         0.0549, 0.0000, 0.0000, 0.0000, 0.0000, 0.1490, 0.8706, 0.9961, 0.8863,\n",
              "         0.4824, 0.0000, 0.0000, 0.0000, 0.0000, 0.0000, 0.0000, 0.0000, 0.0000,\n",
              "         0.0000],\n",
              "        [0.0000, 0.0000, 0.0000, 0.0000, 0.0000, 0.0000, 0.0000, 0.0000, 0.0000,\n",
              "         0.0000, 0.0000, 0.0000, 0.0000, 0.0000, 0.0000, 0.3922, 0.9961, 0.8706,\n",
              "         0.1686, 0.0000, 0.0000, 0.0000, 0.0000, 0.0000, 0.0000, 0.0000, 0.0000,\n",
              "         0.0000],\n",
              "        [0.0000, 0.0000, 0.0000, 0.0000, 0.0000, 0.0000, 0.0000, 0.0000, 0.0000,\n",
              "         0.0000, 0.0000, 0.0000, 0.0000, 0.0000, 0.0000, 0.3255, 1.0000, 0.1882,\n",
              "         0.0000, 0.0000, 0.0000, 0.0000, 0.0000, 0.0000, 0.0000, 0.0000, 0.0000,\n",
              "         0.0000],\n",
              "        [0.0000, 0.0000, 0.0000, 0.0000, 0.0000, 0.0000, 0.0000, 0.0000, 0.0000,\n",
              "         0.0000, 0.0000, 0.0000, 0.0000, 0.0000, 0.0000, 0.3255, 0.9961, 0.0824,\n",
              "         0.0000, 0.0000, 0.0000, 0.0000, 0.0000, 0.0000, 0.0000, 0.0000, 0.0000,\n",
              "         0.0000],\n",
              "        [0.0000, 0.0000, 0.0000, 0.0000, 0.0000, 0.0000, 0.0000, 0.0000, 0.0000,\n",
              "         0.0000, 0.0000, 0.0000, 0.0000, 0.0000, 0.0000, 0.3255, 0.9216, 0.0510,\n",
              "         0.0000, 0.0000, 0.0000, 0.0000, 0.0000, 0.0000, 0.0000, 0.0000, 0.0000,\n",
              "         0.0000],\n",
              "        [0.0000, 0.0000, 0.0000, 0.0000, 0.0000, 0.0000, 0.0000, 0.0000, 0.0000,\n",
              "         0.0000, 0.0000, 0.0000, 0.0000, 0.0000, 0.0000, 0.3255, 0.8510, 0.0235,\n",
              "         0.0000, 0.0000, 0.0000, 0.0000, 0.0000, 0.0000, 0.0000, 0.0000, 0.0000,\n",
              "         0.0000],\n",
              "        [0.0000, 0.0000, 0.0000, 0.0000, 0.0000, 0.0000, 0.0000, 0.0000, 0.0000,\n",
              "         0.0000, 0.0000, 0.0000, 0.0000, 0.0000, 0.0000, 0.3255, 0.8627, 0.0275,\n",
              "         0.0000, 0.0000, 0.0000, 0.0000, 0.0000, 0.0000, 0.0000, 0.0000, 0.0000,\n",
              "         0.0000],\n",
              "        [0.0000, 0.0000, 0.0000, 0.0000, 0.0000, 0.0000, 0.0000, 0.0000, 0.0000,\n",
              "         0.0000, 0.0000, 0.0000, 0.0000, 0.0000, 0.0000, 0.3255, 0.7216, 0.0000,\n",
              "         0.0000, 0.0000, 0.0000, 0.0000, 0.0000, 0.0000, 0.0000, 0.0000, 0.0000,\n",
              "         0.0000],\n",
              "        [0.0000, 0.0000, 0.0000, 0.0000, 0.0000, 0.0000, 0.0000, 0.0000, 0.0000,\n",
              "         0.0000, 0.0000, 0.0000, 0.0000, 0.0000, 0.0000, 0.0000, 0.0000, 0.0000,\n",
              "         0.0000, 0.0000, 0.0000, 0.0000, 0.0000, 0.0000, 0.0000, 0.0000, 0.0000,\n",
              "         0.0000],\n",
              "        [0.0000, 0.0000, 0.0000, 0.0000, 0.0000, 0.0000, 0.0000, 0.0000, 0.0000,\n",
              "         0.0000, 0.0000, 0.0000, 0.0000, 0.0000, 0.0000, 0.0000, 0.0000, 0.0000,\n",
              "         0.0000, 0.0000, 0.0000, 0.0000, 0.0000, 0.0000, 0.0000, 0.0000, 0.0000,\n",
              "         0.0000],\n",
              "        [0.0000, 0.0000, 0.0000, 0.0000, 0.0000, 0.0000, 0.0000, 0.0000, 0.0000,\n",
              "         0.0000, 0.0000, 0.0000, 0.0000, 0.0000, 0.0000, 0.0000, 0.0000, 0.0000,\n",
              "         0.0000, 0.0000, 0.0000, 0.0000, 0.0000, 0.0000, 0.0000, 0.0000, 0.0000,\n",
              "         0.0000]])"
            ]
          },
          "metadata": {},
          "execution_count": 36
        }
      ]
    },
    {
      "cell_type": "markdown",
      "source": [],
      "metadata": {
        "id": "x9CwyuOL5VgA"
      }
    },
    {
      "cell_type": "code",
      "source": [
        "plt.imshow(test_data[1735][0].reshape(28,28))"
      ],
      "metadata": {
        "colab": {
          "base_uri": "https://localhost:8080/",
          "height": 448
        },
        "id": "3JqSVfdR46oT",
        "outputId": "ea39ed1a-aa1b-49ec-c2a5-1ab587d7cd24"
      },
      "execution_count": 37,
      "outputs": [
        {
          "output_type": "execute_result",
          "data": {
            "text/plain": [
              "<matplotlib.image.AxesImage at 0x7c137293f3d0>"
            ]
          },
          "metadata": {},
          "execution_count": 37
        },
        {
          "output_type": "display_data",
          "data": {
            "text/plain": [
              "<Figure size 640x480 with 1 Axes>"
            ],
            "image/png": "[encoded data removed]"
          },
          "metadata": {}
        }
      ]
    },
    {
      "cell_type": "code",
      "source": [
        "#pass the image through our model\n",
        "model.eval()\n",
        "with torch.no_grad():\n",
        "  new_image = test_data[1735][0].view(1,1,28,28)\n",
        "  output = model(new_image)"
      ],
      "metadata": {
        "id": "-k1jB8YN5XWQ"
      },
      "execution_count": 38,
      "outputs": []
    },
    {
      "cell_type": "code",
      "source": [
        "output"
      ],
      "metadata": {
        "colab": {
          "base_uri": "https://localhost:8080/"
        },
        "id": "0l9v9rAB5zzy",
        "outputId": "ff7fe568-3339-4e6b-904e-890a27b34c4d"
      },
      "execution_count": 39,
      "outputs": [
        {
          "output_type": "execute_result",
          "data": {
            "text/plain": [
              "tensor([[-1.8164e+01, -1.1738e+01, -1.0005e+01, -1.5534e+01, -1.3243e-04,\n",
              "         -1.6849e+01, -1.2221e+01, -1.1665e+01, -1.0496e+01, -1.0180e+01]])"
            ]
          },
          "metadata": {},
          "execution_count": 39
        }
      ]
    },
    {
      "cell_type": "code",
      "source": [
        "output.argmax()"
      ],
      "metadata": {
        "colab": {
          "base_uri": "https://localhost:8080/"
        },
        "id": "76vX67KI52ZH",
        "outputId": "ddc7d12d-f519-4639-bc11-61f25afa4aaf"
      },
      "execution_count": 40,
      "outputs": [
        {
          "output_type": "execute_result",
          "data": {
            "text/plain": [
              "tensor(4)"
            ]
          },
          "metadata": {},
          "execution_count": 40
        }
      ]
    },
    {
      "cell_type": "code",
      "source": [],
      "metadata": {
        "id": "T-YpX1mZ59Vf"
      },
      "execution_count": null,
      "outputs": []
    }
  ]
}